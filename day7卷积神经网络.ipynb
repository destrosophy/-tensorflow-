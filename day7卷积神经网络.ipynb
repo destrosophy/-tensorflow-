{
 "cells": [
  {
   "cell_type": "code",
   "execution_count": null,
   "metadata": {},
   "outputs": [],
   "source": [
    "#三层卷积层，一层全连接\n",
    "%matplotlib inline\n",
    "import tensorflow as tf\n",
    "import numpy as np\n",
    "import matplotlib.pyplot as plt \n",
    "import tensorflow.examples.tutorials.mnist.input_data as input_data\n",
    "mnist=input_data.read_data_sets(\"MNIST_data/\",one_hot=True)\n",
    "print(mnist.train.images.shape)\n",
    "print(mnist.train.labels.shape)\n",
    "print(mnist.test.labels.shape)"
   ]
  },
  {
   "cell_type": "code",
   "execution_count": 2,
   "metadata": {},
   "outputs": [],
   "source": [
    "def initk(feature):\n",
    "    return tf.Variable(tf.truncated_normal(feature),dtype=\"float32\")\n",
    "def initb(feature):\n",
    "    return tf.Variable(tf.zeros(feature))"
   ]
  },
  {
   "cell_type": "code",
   "execution_count": 6,
   "metadata": {},
   "outputs": [
    {
     "name": "stdout",
     "output_type": "stream",
     "text": [
      "0.9-0\n",
      "0.92-1\n",
      "0.94-2\n",
      "0.89-3\n",
      "0.96-4\n",
      "[0.9352]\n"
     ]
    }
   ],
   "source": [
    "x=tf.placeholder(\"float32\",[None,28,28,1],name=\"x\")\n",
    "y=tf.placeholder(\"float32\",[None,10],name=\"y\")\n",
    "batch_size=100\n",
    "w1=initk([3,3,1,32])    #第一层卷积卷积核\n",
    "w2=initk([3,3,32,64])    #第二层卷积卷积核\n",
    "w3=initk([3,3,64,128])   #第三层卷积卷积核\n",
    "w4=initk([7*7*128,10])\n",
    "b4=initb([10])\n",
    "batch_size=100\n",
    "batch_total=int(mnist.train.images.shape[0]/batch_size)\n",
    "def model(w1,w2,w3,w4,b4):\n",
    "    pre1=tf.nn.conv2d(x,w1,strides=[1,1,1,1],padding='SAME')\n",
    "    pre1=tf.nn.relu(pre1)\n",
    "    pre1=tf.nn.max_pool(pre1,ksize=[1,2,2,1],strides=[1,2,2,1],padding='SAME')\n",
    "    pre2=tf.nn.conv2d(pre1,w2,strides=[1,1,1,1],padding='SAME')\n",
    "    pre2=tf.nn.relu(pre2)\n",
    "    pre2=tf.nn.max_pool(pre2,ksize=[1,2,2,1],strides=[1,2,2,1],padding='SAME')\n",
    "    pre3=tf.nn.conv2d(pre2,w3,strides=[1,1,1,1],padding='SAME')\n",
    "    pre3=tf.nn.relu(pre3)\n",
    "    pre3=tf.reshape(pre3,[-1,7*7*128])\n",
    "    pre4=tf.matmul(pre3,w4)+b4\n",
    "    predict=tf.nn.softmax(pre4)\n",
    "    return predict,pre4\n",
    "y_,y_withoutsoftmax=model(w1,w2,w3,w4,b4)\n",
    "loss_function=tf.reduce_mean(tf.nn.softmax_cross_entropy_with_logits(labels=y,logits=y_withoutsoftmax))\n",
    "optimizer=tf.train.AdamOptimizer(learning_rate=0.05).minimize(loss_function)\n",
    "correct=tf.equal(tf.argmax(y_,1),tf.argmax(y,1))\n",
    "accuracy=tf.reduce_mean(tf.cast(correct,tf.float32))\n",
    "init=tf.global_variables_initializer()\n",
    "with tf.Session() as sess:\n",
    "    sess.run(init)\n",
    "    for epoch in range(5):\n",
    "        for i in range(batch_total):\n",
    "            xs,ys=mnist.train.next_batch(batch_size)\n",
    "            xs=xs.reshape(-1,28,28,1)\n",
    "            _,loss,acc=sess.run([optimizer,loss_function,accuracy],feed_dict={x:xs,y:ys})\n",
    "        print(str(acc)+\"-\"+str(epoch))\n",
    "        lxs=mnist.test.images\n",
    "        lys=mnist.test.labels\n",
    "        lxs=lxs.reshape(-1,28,28,1)\n",
    "        acc=sess.run([accuracy],feed_dict={x:lxs,y:lys})\n",
    "    print(acc)\n",
    "        "
   ]
  }
 ],
 "metadata": {
  "kernelspec": {
   "display_name": "Python 3",
   "language": "python",
   "name": "python3"
  },
  "language_info": {
   "codemirror_mode": {
    "name": "ipython",
    "version": 3
   },
   "file_extension": ".py",
   "mimetype": "text/x-python",
   "name": "python",
   "nbconvert_exporter": "python",
   "pygments_lexer": "ipython3",
   "version": "3.6.4"
  }
 },
 "nbformat": 4,
 "nbformat_minor": 2
}
