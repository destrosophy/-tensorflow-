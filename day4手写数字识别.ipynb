{
 "cells": [
  {
   "cell_type": "code",
   "execution_count": 1,
   "metadata": {},
   "outputs": [
    {
     "name": "stdout",
     "output_type": "stream",
     "text": [
      "Extracting MNIST_data/train-images-idx3-ubyte.gz\n",
      "Extracting MNIST_data/train-labels-idx1-ubyte.gz\n",
      "Extracting MNIST_data/t10k-images-idx3-ubyte.gz\n",
      "Extracting MNIST_data/t10k-labels-idx1-ubyte.gz\n",
      "(55000, 784)\n",
      "(55000, 10)\n",
      "(10000, 10)\n"
     ]
    }
   ],
   "source": [
    "%matplotlib inline\n",
    "import tensorflow as tf\n",
    "import numpy as np\n",
    "import matplotlib.pyplot as plt \n",
    "import tensorflow.examples.tutorials.mnist.input_data as input_data\n",
    "mnist=input_data.read_data_sets(\"MNIST_data/\",one_hot=True)\n",
    "print(mnist.train.images.shape)\n",
    "print(mnist.train.labels.shape)\n",
    "print(mnist.test.labels.shape)"
   ]
  },
  {
   "cell_type": "code",
   "execution_count": null,
   "metadata": {},
   "outputs": [],
   "source": [
    "x=tf.placeholder(\"float64\",[None,784],name=\"x\")\n",
    "y=tf.placeholder(\"float64\",[None,10],name=\"y\")\n",
    "w=tf.Variable(np.random.randn(784,10),dtype=\"float64\")\n",
    "b=tf.Variable(np.zeros(10),dtype=\"float64\")\n",
    "leanin_rate=0.05\n",
    "train_epoches=50\n",
    "batch_size=50\n",
    "batch_total=(int)(len(mnist.train.images)/batch_size)\n",
    "model=tf.matmul(x,w)+b\n",
    "pre=tf.nn.softmax(model)\n",
    "init=tf.global_variables_initializer()\n",
    "loss_function=tf.reduce_mean(-tf.reduce_sum(y*tf.log(pre)))\n",
    "optimizer=tf.train.GradientDescentOptimizer(leanin_rate).minimize(loss_function)\n",
    "correct=tf.equal(tf.argmax(pre,1),tf.argmax(y,1))\n",
    "accuracy=tf.reduce_mean(tf.cast(correct,tf.float64))\n",
    "with tf.Session() as sess:\n",
    "    sess.run(init)\n",
    "    for i in range(train_epoches):\n",
    "        for t in range(batch_total):\n",
    "            xs,ys=mnist.train.next_batch(batch_size)\n",
    "            _,loss,acc,p=sess.run([optimizer,loss_function,accuracy,pre],feed_dict={x:xs,y:ys})\n",
    "        print(sess.run(tf.log(p))\n",
    "    acc_vali=sess.run([accuracy],feed_dict={x:mnist.validation.images,y:mnist.validation.labels})\n",
    "    predict=sess.run(tf.argmax(pre,1),feed_dict={x:mnist.test.images})\n",
    "    print(acc_vali)"
   ]
  },
  {
   "cell_type": "code",
   "execution_count": null,
   "metadata": {},
   "outputs": [],
   "source": [
    "def plot_images_label_pre(images,labels,predict,index,num):\n",
    "    fig=plt.gcf()\n",
    "    fig.set_size_inches(10,12)\n",
    "    if num>25:\n",
    "        num=25\n",
    "    for i in range(num):\n",
    "        ax=plt.subplot(5,5,i+1)\n",
    "        ax.imshow(np.reshape(images[index],(28,28)),cmap='binary')\n",
    "        title=\"label=\"+str(np.argmax(labels[index]))+\"pre=\"+str(predict[index])\n",
    "        ax.set_title(title,fontsize=10)\n",
    "        index+=1\n",
    "    plt.show()\n",
    "    \n",
    "plot_images_label_pre(mnist.test.images,mnist.test.labels,predict,10,25)"
   ]
  },
  {
   "cell_type": "code",
   "execution_count": null,
   "metadata": {},
   "outputs": [],
   "source": []
  }
 ],
 "metadata": {
  "kernelspec": {
   "display_name": "Python 3",
   "language": "python",
   "name": "python3"
  },
  "language_info": {
   "codemirror_mode": {
    "name": "ipython",
    "version": 3
   },
   "file_extension": ".py",
   "mimetype": "text/x-python",
   "name": "python",
   "nbconvert_exporter": "python",
   "pygments_lexer": "ipython3",
   "version": "3.6.4"
  }
 },
 "nbformat": 4,
 "nbformat_minor": 2
}
