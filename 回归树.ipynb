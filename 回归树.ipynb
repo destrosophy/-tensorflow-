{
 "cells": [
  {
   "cell_type": "code",
   "execution_count": 1,
   "metadata": {},
   "outputs": [
    {
     "name": "stdout",
     "output_type": "stream",
     "text": [
      "Using matplotlib backend: Qt5Agg\n"
     ]
    }
   ],
   "source": [
    "%matplotlib\n",
    "import numpy as np\n",
    "import matplotlib.pyplot as plt"
   ]
  },
  {
   "cell_type": "code",
   "execution_count": 95,
   "metadata": {},
   "outputs": [],
   "source": [
    "def err_cnt(dataset):\n",
    "    data=np.mat(dataset)\n",
    "    return np.var(data[:,-1])*np.shape(data)[0]    #总方差\n",
    "#l=err_cnt([[1,1,1],\n",
    "#        [1,2,0],\n",
    "#        [1,2,2]])"
   ]
  },
  {
   "cell_type": "code",
   "execution_count": 126,
   "metadata": {},
   "outputs": [],
   "source": [
    "def split_tree(dataset,feats,value):\n",
    "    set_1=[]\n",
    "    set_2=[]\n",
    "    for x in dataset:\n",
    "        if  x[feats]>=value:\n",
    "            set_2.append(x)\n",
    "        else:\n",
    "            set_1.append(x)\n",
    "    return (set_1,set_2)"
   ]
  },
  {
   "cell_type": "code",
   "execution_count": 140,
   "metadata": {},
   "outputs": [],
   "source": [
    "class node:\n",
    "    def __init__(self,feats=1,value=None,results=None,right=None,left=None):\n",
    "        self.feats=feats\n",
    "        self.value=value\n",
    "        self.results=results\n",
    "        self.left=left\n",
    "        self.right=right"
   ]
  },
  {
   "cell_type": "code",
   "execution_count": 170,
   "metadata": {},
   "outputs": [],
   "source": [
    "def buildtree(data,minsample,minerr):\n",
    "    if len(data)<minsample:\n",
    "        return node(results=leaf(data))\n",
    "    \n",
    "    best_err=err_cnt(data)\n",
    "    best_Criteria=None\n",
    "    bestSets=None\n",
    "    \n",
    "    featue_num=len(data[0])-1\n",
    "    for feats in range(featue_num):\n",
    "        feature_values={}\n",
    "        for sample in data:\n",
    "            feature_values[sample[feats]]=1\n",
    "        for value in feature_values.keys():\n",
    "            (set_1,set_2)=split_tree(data,feats,value)\n",
    "            if len(set_1)<2 or len(set_2)<2:\n",
    "                continue;\n",
    "            now_err=err_cnt(set_1)+err_cnt(set_2)\n",
    "            if now_err< best_err and len(set_1)>0 and len(set_2)>0:\n",
    "                best_err=now_err\n",
    "                best_Criteria=(feats,value)\n",
    "                bestSets=(set_1,set_2)\n",
    "    if best_err>minerr:\n",
    "        right=buildtree(bestSets[1],minsample,minerr)\n",
    "        left=buildtree(bestSets[0],minsample,minerr)\n",
    "        return node(feats=best_Criteria[0],value=best_Criteria[1],right=right,left=left)\n",
    "    else:\n",
    "        return node(results=leaf(data))"
   ]
  },
  {
   "cell_type": "code",
   "execution_count": 151,
   "metadata": {},
   "outputs": [],
   "source": [
    "def leaf(dataset):\n",
    "    dataset=np.array(dataset)\n",
    "    data=np.mat(dataset)\n",
    "    return np.mean(dataset[:,-1])"
   ]
  },
  {
   "cell_type": "code",
   "execution_count": 177,
   "metadata": {},
   "outputs": [
    {
     "name": "stdout",
     "output_type": "stream",
     "text": [
      "load data-------\n",
      "build tree------\n",
      "cal err----------\n",
      "0.6801104289924979\n",
      "save tree---------\n"
     ]
    }
   ],
   "source": [
    "import pickle\n",
    "if __name__==\"__main__\":\n",
    "    print(\"load data-------\")\n",
    "    data=load_data(\"sine.txt\")\n",
    "    print(\"build tree------\")\n",
    "    regression_tree=buildtree(data,30,0.3)\n",
    "    print(\"cal err----------\")\n",
    "    err=cal_err(data,regression_tree)\n",
    "    print(\"save tree---------\")\n",
    "    save_model(regression_tree,\"regression_tree\")"
   ]
  },
  {
   "cell_type": "code",
   "execution_count": 93,
   "metadata": {},
   "outputs": [],
   "source": [
    "def load_data(datafile):\n",
    "    data=[]\n",
    "    f=open(datafile)\n",
    "    for line in f.readlines():\n",
    "        sample=[]\n",
    "        lines=line.strip().split(\"\\t\")\n",
    "        for x in lines:\n",
    "            sample.append(float(x))\n",
    "        data.append(sample)\n",
    "    f.close()\n",
    "    return data"
   ]
  },
  {
   "cell_type": "code",
   "execution_count": 169,
   "metadata": {},
   "outputs": [],
   "source": [
    "def cal_err(data,tree):\n",
    "    m=len(data)\n",
    "    n=len(data[0])-1\n",
    "    err=0.0\n",
    "    for i in range(m):\n",
    "        temp=[]\n",
    "        for j in range(n):\n",
    "            temp.append(data[i][j])\n",
    "        pre=predict(temp,tree)\n",
    "        err+=(data[i][j]-pre)**2\n",
    "    return err/m"
   ]
  },
  {
   "cell_type": "code",
   "execution_count": 83,
   "metadata": {},
   "outputs": [],
   "source": [
    "def save_model(tree,file):\n",
    "    with open(file,'wb') as f:\n",
    "        pickle.dump(tree,f)"
   ]
  },
  {
   "cell_type": "code",
   "execution_count": 174,
   "metadata": {},
   "outputs": [],
   "source": [
    "def predict(sample,tree):\n",
    "    if tree.results !=None:\n",
    "        return tree.results\n",
    "    else:\n",
    "        val_sample=sample[tree.feats]\n",
    "        if val_sample>=tree.value:\n",
    "            branch=tree.right\n",
    "        else:\n",
    "            branch=tree.left\n",
    "    return predict(sample,branch)"
   ]
  }
 ],
 "metadata": {
  "kernelspec": {
   "display_name": "Python 3",
   "language": "python",
   "name": "python3"
  },
  "language_info": {
   "codemirror_mode": {
    "name": "ipython",
    "version": 3
   },
   "file_extension": ".py",
   "mimetype": "text/x-python",
   "name": "python",
   "nbconvert_exporter": "python",
   "pygments_lexer": "ipython3",
   "version": "3.6.4"
  }
 },
 "nbformat": 4,
 "nbformat_minor": 2
}
