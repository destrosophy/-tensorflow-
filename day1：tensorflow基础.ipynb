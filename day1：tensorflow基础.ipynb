{
 "cells": [
  {
   "cell_type": "markdown",
   "metadata": {},
   "source": [
    "tensorflow实战day1"
   ]
  },
  {
   "cell_type": "markdown",
   "metadata": {},
   "source": [
    "1、数据模型——张量（多维数值阵列），由三个参数描述  阶、形状、数据类型\n",
    "   i.阶：每个张量的维数"
   ]
  },
  {
   "cell_type": "code",
   "execution_count": 19,
   "metadata": {},
   "outputs": [
    {
     "name": "stdout",
     "output_type": "stream",
     "text": [
      "()\n",
      "(5,)\n",
      "(2, 3)\n",
      "(3, 3, 1)\n"
     ]
    }
   ],
   "source": [
    "import tensorflow as tf\n",
    "scalar=tf.constant(100)       #标量\n",
    "vector=tf.constant([1,2,3,4,5])  #向量\n",
    "matrix=tf.constant([[1,2,3],\n",
    "                    [4,5,6]]) #矩阵\n",
    "cube_matrix=tf.constant([[[1],[2],[3]],\n",
    "                         [[4],[5],[6]],\n",
    "                        [[7],[8],[9]]])  #立方阵\n",
    "print(scalar.get_shape())\n",
    "print(vector.get_shape())\n",
    "print(matrix.get_shape())\n",
    "print(cube_matrix.get_shape())"
   ]
  },
  {
   "cell_type": "markdown",
   "metadata": {},
   "source": [
    "    ii.形状（行数和列数）"
   ]
  },
  {
   "cell_type": "code",
   "execution_count": 26,
   "metadata": {},
   "outputs": [
    {
     "data": {
      "text/plain": [
       "TensorShape([Dimension(3), Dimension(3), Dimension(1)])"
      ]
     },
     "execution_count": 26,
     "metadata": {},
     "output_type": "execute_result"
    }
   ],
   "source": [
    "#scalar.get_shape()  #TensorShape([])\n",
    "#vector.get_shape()  #TensorShape([Dimension(5)])\n",
    "#matrix.get_shape()  #TensorShape([Dimension(2), Dimension(3)])\n",
    "cube_matrix.get_shape()  #TensorShape([Dimension(3), Dimension(3), Dimension(1)])"
   ]
  },
  {
   "cell_type": "markdown",
   "metadata": {},
   "source": [
    "    iii.数据类型\n",
    "    tf.float32   32位浮点数\n",
    "    tf.float64   64位浮点数\n",
    "    tf.int8     8位有符号整数\n",
    "    tf.int16\n",
    "    tf.int32\n",
    "    tf.uint8    8位无符号整数\n",
    "    tf.string   可变长度字节序列\n",
    "    tf.bool\n",
    "    tf.complex64 32位实部，32位虚部\n",
    "    tf.complex128 64位实部，64位虚部\n",
    "    tf.qint8    8位有符号整型，在量化型op中使用\n",
    "    tf.qint32\n",
    "    tf.quint8"
   ]
  },
  {
   "cell_type": "markdown",
   "metadata": {},
   "source": [
    "2、numpy入门（tensorflow的数据传递需要通过其API与numpy数组交互完成）\n",
    "   i.数组（Arrays）\n",
    "   数组的维度数量也成为数组的秩或阶，数组的形状是一个由整数构成的元组，描述数组不同维度上的大小"
   ]
  },
  {
   "cell_type": "code",
   "execution_count": 31,
   "metadata": {},
   "outputs": [
    {
     "name": "stdout",
     "output_type": "stream",
     "text": [
      "<class 'numpy.ndarray'>\n",
      "(2, 3)\n",
      "[[ True False False False False]\n",
      " [False  True False False False]\n",
      " [ True  True  True  True  True]]\n",
      "int32\n",
      "float64\n",
      "[ 2  4  6  8 10]\n",
      "[0 0 0 0 0]\n",
      "[ 1  4  9 16 25]\n",
      "[1. 1. 1. 1. 1.]\n",
      "[[1 2 3]\n",
      " [4 5 6]\n",
      " [7 8 9]]\n",
      "(3, 3, 1)\n"
     ]
    }
   ],
   "source": [
    "import numpy as np\n",
    "a=np.array([[1,2,3],[4,5,6]])\n",
    "print(type(a))\n",
    "print(a.shape)\n",
    "#创建数组\n",
    "\n",
    "#零矩阵\n",
    "b=np.zeros((2,2))\n",
    "#print(b)\n",
    "\n",
    "c=np.full((2,2),7)\n",
    "#print(c)\n",
    "#各元素值为1的矩阵 \n",
    "d=np.ones((2,2))\n",
    "#print(d)\n",
    "#单位矩阵\n",
    "e=np.eye(3)\n",
    "#print(e)\n",
    "#随机数矩阵\n",
    "f=np.random.random((2,2))\n",
    "#print(f)\n",
    "\n",
    "\n",
    "#数组索引\n",
    "g=np.array([[1,2,3,4,5],[6,7,8,9,10],[11,12,13,14,15]])\n",
    "h=g[:2,1:3] #第一维度取0-1个元素，第二个维度取从第1到第2个元素\n",
    "#print(h)  \n",
    "\n",
    "#整型数组索引\n",
    "j=np.array([0,1,2])\n",
    "g[np.arange(3),j]+=10\n",
    "#print(g)\n",
    "\n",
    "#布尔型数组索引\n",
    "bool_index=(g>10)\n",
    "print(bool_index)\n",
    "\n",
    "#数据类型\n",
    "print(g.dtype)\n",
    "k=np.array([[1,2,3,4,5],[6,7,8,9,10],[11,12,13,14,15]],dtype=np.float64)\n",
    "print(k.dtype)\n",
    "\n",
    "#数组运算\n",
    "m=np.array([1,2,3,4,5])\n",
    "n=np.array([1,2,3,4,5])\n",
    "print(np.add(m,n))\n",
    "print(np.subtract(m,n))\n",
    "print(np.multiply(m,n))  #numpy中的乘法是元素乘，而matlab中是矩阵乘\n",
    "print(np.divide(m,n))\n",
    "\n",
    "v=np.array([[[1],[2],[3]],\n",
    "            [[4],[5],[6]],\n",
    "            [[7],[8],[9]]])\n",
    "print(np.reshape(v,(v.shape[0],-1)))\n",
    "print(v.shape)"
   ]
  },
  {
   "cell_type": "markdown",
   "metadata": {},
   "source": [
    "3、变量\n",
    "由tf.Variable()创建"
   ]
  },
  {
   "cell_type": "code",
   "execution_count": 54,
   "metadata": {},
   "outputs": [
    {
     "name": "stdout",
     "output_type": "stream",
     "text": [
      "0\n",
      "1\n",
      "2\n",
      "3\n",
      "4\n",
      "5\n",
      "6\n",
      "7\n",
      "8\n",
      "9\n",
      "10\n"
     ]
    }
   ],
   "source": [
    "value=tf.Variable(0,name=\"value\")\n",
    "one=tf.constant(1)\n",
    "new_value=tf.add(one,value)\n",
    "update_value=tf.assign(value,new_value)  #assign add 操作仅仅是计算图上的节点，在会话运行之前，它们不会执行\n",
    "initializer=tf.global_variables_initializer()\n",
    "with tf.Session() as sess:\n",
    "    sess.run(initializer)\n",
    "    print(sess.run(value))\n",
    "    for i in range (10):\n",
    "        sess.run(update_value)\n",
    "        print(sess.run(value))"
   ]
  },
  {
   "cell_type": "markdown",
   "metadata": {},
   "source": [
    "4、取回"
   ]
  },
  {
   "cell_type": "code",
   "execution_count": 57,
   "metadata": {},
   "outputs": [
    {
     "name": "stdout",
     "output_type": "stream",
     "text": [
      "[array([300.], dtype=float32), array([400.], dtype=float32)]\n"
     ]
    }
   ],
   "source": [
    "constanta=tf.constant([100.0])\n",
    "constantb=tf.constant([200.0])\n",
    "constantc=tf.constant([2.0])\n",
    "sum_=tf.add(constanta,constantb)\n",
    "mul_=tf.multiply(constantb,constantc)\n",
    "with tf.Session() as  sess:\n",
    "    result=sess.run([sum_,mul_])\n",
    "    print(result)"
   ]
  },
  {
   "cell_type": "markdown",
   "metadata": {},
   "source": [
    "5、注入"
   ]
  },
  {
   "cell_type": "code",
   "execution_count": 61,
   "metadata": {},
   "outputs": [
    {
     "name": "stdout",
     "output_type": "stream",
     "text": [
      "[[0.05212414 0.26744363]\n",
      " [0.44092852 0.81382155]\n",
      " [1.5365485  0.90380424]]\n"
     ]
    }
   ],
   "source": [
    "a=3\n",
    "b=2\n",
    "x=tf.placeholder(tf.float32,shape=(a,b))\n",
    "y=tf.add(x,x)\n",
    "data=np.random.random((a,b))\n",
    "sess=tf.Session()\n",
    "print(sess.run(y,feed_dict={x:data}))"
   ]
  }
 ],
 "metadata": {
  "kernelspec": {
   "display_name": "Python 3",
   "language": "python",
   "name": "python3"
  },
  "language_info": {
   "codemirror_mode": {
    "name": "ipython",
    "version": 3
   },
   "file_extension": ".py",
   "mimetype": "text/x-python",
   "name": "python",
   "nbconvert_exporter": "python",
   "pygments_lexer": "ipython3",
   "version": "3.6.4"
  }
 },
 "nbformat": 4,
 "nbformat_minor": 2
}
